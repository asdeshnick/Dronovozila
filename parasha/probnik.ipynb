{
 "cells": [
  {
   "cell_type": "code",
   "execution_count": 2,
   "metadata": {},
   "outputs": [],
   "source": [
    "from main import load_model"
   ]
  },
  {
   "cell_type": "code",
   "execution_count": null,
   "metadata": {},
   "outputs": [],
   "source": [
    "print()"
   ]
  },
  {
   "cell_type": "code",
   "execution_count": 2,
   "metadata": {},
   "outputs": [
    {
     "ename": "NameError",
     "evalue": "name 'pioneer_sdk' is not defined",
     "output_type": "error",
     "traceback": [
      "\u001b[0;31m---------------------------------------------------------------------------\u001b[0m",
      "\u001b[0;31mNameError\u001b[0m                                 Traceback (most recent call last)",
      "Cell \u001b[0;32mIn[2], line 4\u001b[0m\n\u001b[1;32m      1\u001b[0m \u001b[38;5;28;01mfrom\u001b[39;00m \u001b[38;5;21;01mpioneer_sdk\u001b[39;00m \u001b[38;5;28;01mimport\u001b[39;00m VideoStream\n\u001b[1;32m      3\u001b[0m stream \u001b[38;5;241m=\u001b[39m VideoStream()\n\u001b[0;32m----> 4\u001b[0m \u001b[38;5;28mprint\u001b[39m(\u001b[38;5;28mtype\u001b[39m(\u001b[43mpioneer_sdk\u001b[49m\u001b[38;5;241m.\u001b[39mcamera\u001b[38;5;241m.\u001b[39mVideoStream))\n",
      "\u001b[0;31mNameError\u001b[0m: name 'pioneer_sdk' is not defined"
     ]
    }
   ],
   "source": [
    "from pioneer_sdk import VideoStream\n",
    "\n",
    "stream = VideoStream()\n",
    "print(type())"
   ]
  },
  {
   "cell_type": "code",
   "execution_count": 2,
   "metadata": {},
   "outputs": [
    {
     "name": "stderr",
     "output_type": "stream",
     "text": [
      "2024-11-24 12:59:36.024 Python[21454:4157845] +[IMKClient subclass]: chose IMKClient_Modern\n",
      "2024-11-24 12:59:36.024 Python[21454:4157845] +[IMKInputSession subclass]: chose IMKInputSession_Modern\n"
     ]
    },
    {
     "data": {
      "text/plain": [
       "<function destroyAllWindows>"
      ]
     },
     "execution_count": 2,
     "metadata": {},
     "output_type": "execute_result"
    }
   ],
   "source": [
    "import numpy as np\n",
    "import cv2\n",
    "\n",
    "\n",
    "cap = cv2.VideoCapture(0)\n",
    "\n",
    "while(True): \n",
    "    ret, frame = cap.read()\n",
    "    gray = cv2.cvtColor(frame, cv2.COLOR_BGR2GRAY)\n",
    "    cv2.imshow('Video', frame)\n",
    "    # cv2.imshow('frame',gray)\n",
    "    if cv2.waitKey(1) & 0xFF == ord('q'):\n",
    "        break\n",
    "\n",
    "cap.release()\n",
    "cv2.destroyAllWindows"
   ]
  },
  {
   "cell_type": "code",
   "execution_count": 4,
   "metadata": {},
   "outputs": [
    {
     "ename": "NameError",
     "evalue": "name 'frame' is not defined",
     "output_type": "error",
     "traceback": [
      "\u001b[0;31m---------------------------------------------------------------------------\u001b[0m",
      "\u001b[0;31mNameError\u001b[0m                                 Traceback (most recent call last)",
      "Cell \u001b[0;32mIn[4], line 32\u001b[0m\n\u001b[1;32m     30\u001b[0m \u001b[38;5;28;01mwhile\u001b[39;00m(\u001b[38;5;28;01mTrue\u001b[39;00m): \n\u001b[1;32m     31\u001b[0m     ret, frame1 \u001b[38;5;241m=\u001b[39m cap\u001b[38;5;241m.\u001b[39mread()\n\u001b[0;32m---> 32\u001b[0m     gray \u001b[38;5;241m=\u001b[39m cv2\u001b[38;5;241m.\u001b[39mcvtColor(\u001b[43mframe\u001b[49m, cv2\u001b[38;5;241m.\u001b[39mCOLOR_BGR2GRAY)\n\u001b[1;32m     33\u001b[0m     cv2\u001b[38;5;241m.\u001b[39mimshow(\u001b[38;5;124m'\u001b[39m\u001b[38;5;124mVideo\u001b[39m\u001b[38;5;124m'\u001b[39m, frame1)\n\u001b[1;32m     34\u001b[0m     \u001b[38;5;66;03m# cv2.imshow('frame',gray)\u001b[39;00m\n",
      "\u001b[0;31mNameError\u001b[0m: name 'frame' is not defined"
     ]
    }
   ],
   "source": [
    "from ultralytics import YOLO\n",
    "import cv2\n",
    "import torch\n",
    "import os\n",
    "import time \n",
    "import numpy as np\n",
    "from webcamera import webcam\n",
    "#from wasd import camera_frame\n",
    "\"\"\"\n",
    "засечь время \n",
    "и запустить функцию 100 раз \n",
    "\"\"\"\n",
    "\n",
    "\n",
    "def load_model(model_path):\n",
    "\n",
    "    model = YOLO(model_path)\n",
    "    device = \"cuda\" if torch.cuda.is_available() else \"cpu\"\n",
    "    print(device)\n",
    "    model.to(device)\n",
    "    \n",
    "    return model\n",
    "\n",
    "\n",
    "def find_people(model, frame, threshold=0.5):\n",
    "    return model(frame, classes=0, conf=threshold)[0].plot()\n",
    "\n",
    "cap = cv2.VideoCapture(0)\n",
    "\n",
    "while(True): \n",
    "    ret, frame1 = cap.read()\n",
    "    gray = cv2.cvtColor(frame, cv2.COLOR_BGR2GRAY)\n",
    "    cv2.imshow('Video', frame1)\n",
    "    # cv2.imshow('frame',gray)\n",
    "    if cv2.waitKey(1) & 0xFF == ord('q'):\n",
    "        break\n",
    "\n",
    "cap.release()\n",
    "cv2.destroyAllWindows \n",
    "\n",
    "\n",
    "\n",
    "def main():\n",
    "    \n",
    "    model_path = \"yolo11n.pt\"\n",
    "    model = load_model(model_path)\n",
    "    #camera_frame_main = \n",
    "    frame = cv2.imread(frame1)\n",
    "    print(\"Обработка не запустилась\")\n",
    "    res_func = find_people(model, frame)\n",
    "    print(\"Работает!\")\n",
    "    cv2.imshow(\" \", res_func)\n",
    "    cv2.waitKey(0)\n",
    "    cv2.destroyAllWindows()\n",
    "    \n",
    "\n",
    "cap = cv2.VideoCapture(0)\n",
    "\n",
    "while(True): \n",
    "    ret, frame1 = cap.read()\n",
    "    gray = cv2.cvtColor(frame, cv2.COLOR_BGR2GRAY)\n",
    "    cv2.imshow('Video', frame1)\n",
    "    # cv2.imshow('frame',gray)\n",
    "    if cv2.waitKey(1) & 0xFF == ord('q'):\n",
    "        break\n",
    "\n",
    "cap.release()\n",
    "cv2.destroyAllWindows()\n"
   ]
  }
 ],
 "metadata": {
  "kernelspec": {
   "display_name": ".venv",
   "language": "python",
   "name": "python3"
  },
  "language_info": {
   "codemirror_mode": {
    "name": "ipython",
    "version": 3
   },
   "file_extension": ".py",
   "mimetype": "text/x-python",
   "name": "python",
   "nbconvert_exporter": "python",
   "pygments_lexer": "ipython3",
   "version": "3.10.0"
  }
 },
 "nbformat": 4,
 "nbformat_minor": 2
}
